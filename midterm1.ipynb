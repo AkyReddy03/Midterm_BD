{
 "cells": [
  {
   "attachments": {},
   "cell_type": "markdown",
   "metadata": {},
   "source": [
    "### Title: Midterm \n",
    "### Author: Akshay Kumar reddy nalla\n",
    "### Date: 10/4/2023"
   ]
  },
  {
   "cell_type": "code",
   "execution_count": 1,
   "metadata": {},
   "outputs": [],
   "source": [
    "import pandas as pd\n",
    "from cassandra.cluster import Cluster"
   ]
  },
  {
   "attachments": {},
   "cell_type": "markdown",
   "metadata": {},
   "source": [
    "### Use session to 'talk' to cassandra"
   ]
  },
  {
   "cell_type": "code",
   "execution_count": 2,
   "metadata": {},
   "outputs": [],
   "source": [
    "clstr = Cluster()\n",
    "session = clstr.connect()"
   ]
  },
  {
   "cell_type": "code",
   "execution_count": 3,
   "metadata": {},
   "outputs": [
    {
     "data": {
      "text/plain": [
       "<cassandra.cluster.ResultSet at 0x7f4cb8597c90>"
      ]
     },
     "execution_count": 3,
     "metadata": {},
     "output_type": "execute_result"
    }
   ],
   "source": [
    "session.execute(\"DROP KEYSPACE IF EXISTS w04python\")"
   ]
  },
  {
   "cell_type": "code",
   "execution_count": 4,
   "metadata": {},
   "outputs": [
    {
     "name": "stdout",
     "output_type": "stream",
     "text": [
      "system\n",
      "system_auth\n",
      "system_distributed\n",
      "system_schema\n",
      "system_traces\n",
      "system_views\n",
      "system_virtual_schema\n",
      "userdata\n"
     ]
    }
   ],
   "source": [
    "rows = session.execute(\"desc keyspaces\")\n",
    "for row in rows:\n",
    "    print(f\"{row[0]}\")"
   ]
  },
  {
   "cell_type": "code",
   "execution_count": 5,
   "metadata": {},
   "outputs": [
    {
     "data": {
      "text/plain": [
       "<cassandra.cluster.ResultSet at 0x7f4cb85d40d0>"
      ]
     },
     "execution_count": 5,
     "metadata": {},
     "output_type": "execute_result"
    }
   ],
   "source": [
    "session.execute(\"\"\"\n",
    "    CREATE KEYSPACE IF NOT EXISTS w04python WITH REPLICATION = {\n",
    "        'class':'SimpleStrategy', \n",
    "        'replication_factor':3\n",
    "    }\n",
    "\"\"\")"
   ]
  },
  {
   "cell_type": "code",
   "execution_count": 6,
   "metadata": {},
   "outputs": [
    {
     "name": "stdout",
     "output_type": "stream",
     "text": [
      "system\n",
      "system_auth\n",
      "system_distributed\n",
      "system_schema\n",
      "system_traces\n",
      "system_views\n",
      "system_virtual_schema\n",
      "userdata\n",
      "w04python\n"
     ]
    }
   ],
   "source": [
    "rows = session.execute(\"desc keyspaces\")\n",
    "for row in rows:\n",
    "    print(f\"{row[0]}\")"
   ]
  },
  {
   "cell_type": "code",
   "execution_count": 7,
   "metadata": {},
   "outputs": [],
   "source": [
    "with open('file1.jpg','w') as fout1:\n",
    "    fout1.write(\"user akshay\")\n",
    "\n",
    "with open('file2.doc','w') as fout2:\n",
    "    fout2.write(\"user vinay\")\n",
    "\n",
    "with open('file3.pdf','w') as fout3:\n",
    "    fout3.write(\"user praharsha\")\n",
    "\n",
    "with open('file4.mp4','w') as fout4:\n",
    "    fout4.write(\"user rakesh\")\n"
   ]
  },
  {
   "cell_type": "code",
   "execution_count": 8,
   "metadata": {},
   "outputs": [
    {
     "name": "stdout",
     "output_type": "stream",
     "text": [
      "user akshay\n",
      "user vinay\n",
      "user praharsha\n",
      "user rakesh\n"
     ]
    }
   ],
   "source": [
    "with open('file1.jpg', 'r') as file1:\n",
    "    temp1=file1.read()\n",
    "    print(temp1)\n",
    "\n",
    "with open('file2.doc', 'r') as file2:\n",
    "    temp2=file2.read()\n",
    "    print(temp2)\n",
    "\n",
    "with open('file3.pdf', 'r') as file3:\n",
    "    temp3=file3.read()\n",
    "    print(temp3)\n",
    "\n",
    "with open('file4.mp4', 'r') as file4:\n",
    "    temp4=file4.read()\n",
    "    print(temp4)\n"
   ]
  },
  {
   "attachments": {},
   "cell_type": "markdown",
   "metadata": {},
   "source": [
    "### Creating Table"
   ]
  },
  {
   "cell_type": "code",
   "execution_count": 9,
   "metadata": {},
   "outputs": [
    {
     "data": {
      "text/plain": [
       "<cassandra.cluster.ResultSet at 0x7f4cb6ea8810>"
      ]
     },
     "execution_count": 9,
     "metadata": {},
     "output_type": "execute_result"
    }
   ],
   "source": [
    "session.execute(\"\"\"\n",
    "CREATE TABLE IF NOT EXISTS w04python.filedata ( \n",
    "    user_id INT, \n",
    "    date TEXT, \n",
    "    file_type TEXT, \n",
    "    file_location TEXT,\n",
    "    file_content TEXT, \n",
    "    PRIMARY KEY(user_id)\n",
    ");\n",
    "\"\"\")"
   ]
  },
  {
   "cell_type": "code",
   "execution_count": 10,
   "metadata": {},
   "outputs": [
    {
     "data": {
      "text/html": [
       "<div>\n",
       "<style scoped>\n",
       "    .dataframe tbody tr th:only-of-type {\n",
       "        vertical-align: middle;\n",
       "    }\n",
       "\n",
       "    .dataframe tbody tr th {\n",
       "        vertical-align: top;\n",
       "    }\n",
       "\n",
       "    .dataframe thead th {\n",
       "        text-align: right;\n",
       "    }\n",
       "</style>\n",
       "<table border=\"1\" class=\"dataframe\">\n",
       "  <thead>\n",
       "    <tr style=\"text-align: right;\">\n",
       "      <th></th>\n",
       "      <th>user_id</th>\n",
       "      <th>date</th>\n",
       "      <th>file_type</th>\n",
       "      <th>file_location</th>\n",
       "    </tr>\n",
       "  </thead>\n",
       "  <tbody>\n",
       "    <tr>\n",
       "      <th>0</th>\n",
       "      <td>100</td>\n",
       "      <td>'21-05-2023'</td>\n",
       "      <td>'jpg'</td>\n",
       "      <td>'/home/student/Workbench/file1.jpg'</td>\n",
       "    </tr>\n",
       "    <tr>\n",
       "      <th>1</th>\n",
       "      <td>101</td>\n",
       "      <td>'22-05-2023'</td>\n",
       "      <td>'mp4'</td>\n",
       "      <td>'/home/student/Workbench/file2.doc'</td>\n",
       "    </tr>\n",
       "    <tr>\n",
       "      <th>2</th>\n",
       "      <td>102</td>\n",
       "      <td>'23-05-2023'</td>\n",
       "      <td>'jpg'</td>\n",
       "      <td>'/home/student/Workbench/file3.pdf'</td>\n",
       "    </tr>\n",
       "    <tr>\n",
       "      <th>3</th>\n",
       "      <td>103</td>\n",
       "      <td>'24-05-2023'</td>\n",
       "      <td>'png'</td>\n",
       "      <td>'/home/student/Workbench/file4.mp4'</td>\n",
       "    </tr>\n",
       "  </tbody>\n",
       "</table>\n",
       "</div>"
      ],
      "text/plain": [
       "   user_id          date file_type                        file_location\n",
       "0      100  '21-05-2023'     'jpg'  '/home/student/Workbench/file1.jpg'\n",
       "1      101  '22-05-2023'     'mp4'  '/home/student/Workbench/file2.doc'\n",
       "2      102  '23-05-2023'     'jpg'  '/home/student/Workbench/file3.pdf'\n",
       "3      103  '24-05-2023'     'png'  '/home/student/Workbench/file4.mp4'"
      ]
     },
     "execution_count": 10,
     "metadata": {},
     "output_type": "execute_result"
    }
   ],
   "source": [
    "df = pd.read_csv('filedata.csv')\n",
    "df"
   ]
  },
  {
   "cell_type": "code",
   "execution_count": null,
   "metadata": {},
   "outputs": [],
   "source": []
  },
  {
   "cell_type": "code",
   "execution_count": 11,
   "metadata": {},
   "outputs": [],
   "source": [
    "df['file_content']=[temp1,temp2,temp3,temp4]"
   ]
  },
  {
   "cell_type": "code",
   "execution_count": 12,
   "metadata": {},
   "outputs": [
    {
     "name": "stdout",
     "output_type": "stream",
     "text": [
      "user_id = 100, date ='21-05-2023', file_type = 'jpg', file_location = '/home/student/Workbench/file1.jpg', file_content = user akshay\n",
      "user_id = 101, date ='22-05-2023', file_type = 'mp4', file_location = '/home/student/Workbench/file2.doc', file_content = user vinay\n",
      "user_id = 102, date ='23-05-2023', file_type = 'jpg', file_location = '/home/student/Workbench/file3.pdf', file_content = user praharsha\n",
      "user_id = 103, date ='24-05-2023', file_type = 'png', file_location = '/home/student/Workbench/file4.mp4', file_content = user rakesh\n"
     ]
    }
   ],
   "source": [
    "for index, row in df.iterrows():\n",
    "    print(f\"user_id = {row.user_id}, date ={row.date}, file_type = {row.file_type}, file_location = {row.file_location}, file_content = {row.file_content}\")"
   ]
  },
  {
   "cell_type": "code",
   "execution_count": 13,
   "metadata": {},
   "outputs": [
    {
     "name": "stdout",
     "output_type": "stream",
     "text": [
      "\n",
      "        INSERT INTO w04python.filedata (user_id, date, file_type, file_location, file_content)     \n",
      "        VALUES (100, '21-05-2023', 'jpg', '/home/student/Workbench/file1.jpg', user akshay);\n",
      "        \n",
      "\n",
      "        INSERT INTO w04python.filedata (user_id, date, file_type, file_location, file_content)     \n",
      "        VALUES (101, '22-05-2023', 'mp4', '/home/student/Workbench/file2.doc', user vinay);\n",
      "        \n",
      "\n",
      "        INSERT INTO w04python.filedata (user_id, date, file_type, file_location, file_content)     \n",
      "        VALUES (102, '23-05-2023', 'jpg', '/home/student/Workbench/file3.pdf', user praharsha);\n",
      "        \n",
      "\n",
      "        INSERT INTO w04python.filedata (user_id, date, file_type, file_location, file_content)     \n",
      "        VALUES (103, '24-05-2023', 'png', '/home/student/Workbench/file4.mp4', user rakesh);\n",
      "        \n"
     ]
    }
   ],
   "source": [
    "for index, row in df.iterrows():\n",
    "    print(f\"\"\"\n",
    "        INSERT INTO w04python.filedata (user_id, date, file_type, file_location, file_content)     \n",
    "        VALUES ({row[0]}, {row[1]}, {row[2]}, {row[3]}, {row[4]});\n",
    "        \"\"\"\n",
    "    )\n",
    "    session.execute(f\"\"\"\n",
    "        INSERT INTO w04python.filedata (user_id, date, file_type, file_location, file_content)     \n",
    "        VALUES ({row[0]}, {row[1]}, {row[2]}, {row[3]}, '{row[4]}');\n",
    "        \"\"\"\n",
    "    )"
   ]
  },
  {
   "cell_type": "code",
   "execution_count": 14,
   "metadata": {},
   "outputs": [
    {
     "name": "stdout",
     "output_type": "stream",
     "text": [
      "101, 22-05-2023, file_location=/home/student/Workbench/file2.doc, file_content=user vinay\n"
     ]
    }
   ],
   "source": [
    "# To search for and return file location and datas\n",
    "\n",
    "rows = session.execute(\"select (user_id, date, file_location, file_content) from w04python.filedata where user_id = 101\")\n",
    "for row in rows:\n",
    "    print(f\"{row[0][0]}, {row[0][1]}, file_location={row[0][2]}, file_content={row[0][3]}\")"
   ]
  },
  {
   "cell_type": "code",
   "execution_count": 15,
   "metadata": {},
   "outputs": [
    {
     "data": {
      "text/plain": [
       "<cassandra.cluster.ResultSet at 0x7f4cb6f5ee10>"
      ]
     },
     "execution_count": 15,
     "metadata": {},
     "output_type": "execute_result"
    }
   ],
   "source": [
    "# delete the record\n",
    "session.execute(f\"\"\"\n",
    "    DELETE FROM w04python.filedata\n",
    "    WHERE\n",
    "        user_id = 101;\n",
    "    \"\"\"\n",
    ")"
   ]
  }
 ],
 "metadata": {
  "kernelspec": {
   "display_name": "Dev01",
   "language": "python",
   "name": "python3"
  },
  "language_info": {
   "codemirror_mode": {
    "name": "ipython",
    "version": 3
   },
   "file_extension": ".py",
   "mimetype": "text/x-python",
   "name": "python",
   "nbconvert_exporter": "python",
   "pygments_lexer": "ipython3",
   "version": "3.11.5"
  },
  "orig_nbformat": 4
 },
 "nbformat": 4,
 "nbformat_minor": 2
}
